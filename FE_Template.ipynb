{
 "cells": [
  {
   "cell_type": "code",
   "execution_count": 2,
   "metadata": {},
   "outputs": [],
   "source": [
    "import pandas as pd\n",
    "import numpy as np\n",
    "import seaborn as sns\n",
    "import matplotlib.pyplot as plt\n",
    "from sklearn.model_selection import train_test_split\n",
    "import seaborn as sns\n",
    "import scipy.stats as stats"
   ]
  },
  {
   "cell_type": "code",
   "execution_count": 3,
   "metadata": {},
   "outputs": [],
   "source": [
    "import warnings\n",
    "warnings.filterwarnings('ignore')"
   ]
  },
  {
   "cell_type": "code",
   "execution_count": 4,
   "metadata": {},
   "outputs": [],
   "source": [
    "#Configurations\n",
    "file_path = r'C:\\Users\\Admin\\Travel_Insurane_Claim_Status.xlsx'"
   ]
  },
  {
   "cell_type": "markdown",
   "metadata": {},
   "source": [
    "A third-party travel insurance servicing company that is based in Singapore wants to know for any insurance policy, whether some features lead to the policy claimed.The goal of this project is to predict whether insurance policies are claimed based on some of the features."
   ]
  },
  {
   "cell_type": "code",
   "execution_count": 5,
   "metadata": {},
   "outputs": [],
   "source": [
    "#Reading the input\n",
    "df = pd.read_excel(file_path)"
   ]
  },
  {
   "cell_type": "code",
   "execution_count": 6,
   "metadata": {},
   "outputs": [
    {
     "data": {
      "text/html": [
       "<div>\n",
       "<style scoped>\n",
       "    .dataframe tbody tr th:only-of-type {\n",
       "        vertical-align: middle;\n",
       "    }\n",
       "\n",
       "    .dataframe tbody tr th {\n",
       "        vertical-align: top;\n",
       "    }\n",
       "\n",
       "    .dataframe thead th {\n",
       "        text-align: right;\n",
       "    }\n",
       "</style>\n",
       "<table border=\"1\" class=\"dataframe\">\n",
       "  <thead>\n",
       "    <tr style=\"text-align: right;\">\n",
       "      <th></th>\n",
       "      <th>Agency</th>\n",
       "      <th>Agency Type</th>\n",
       "      <th>Distribution Channel</th>\n",
       "      <th>Product Name</th>\n",
       "      <th>Claim</th>\n",
       "      <th>Duration</th>\n",
       "      <th>Destination</th>\n",
       "      <th>Net Sales</th>\n",
       "      <th>Commision (in value)</th>\n",
       "      <th>Gender</th>\n",
       "      <th>Age</th>\n",
       "    </tr>\n",
       "  </thead>\n",
       "  <tbody>\n",
       "    <tr>\n",
       "      <th>0</th>\n",
       "      <td>CBH</td>\n",
       "      <td>Travel Agency</td>\n",
       "      <td>Offline</td>\n",
       "      <td>Comprehensive Plan</td>\n",
       "      <td>No</td>\n",
       "      <td>186</td>\n",
       "      <td>MALAYSIA</td>\n",
       "      <td>-29.0</td>\n",
       "      <td>9.57</td>\n",
       "      <td>F</td>\n",
       "      <td>81</td>\n",
       "    </tr>\n",
       "    <tr>\n",
       "      <th>1</th>\n",
       "      <td>CBH</td>\n",
       "      <td>Travel Agency</td>\n",
       "      <td>Offline</td>\n",
       "      <td>Comprehensive Plan</td>\n",
       "      <td>No</td>\n",
       "      <td>186</td>\n",
       "      <td>MALAYSIA</td>\n",
       "      <td>-29.0</td>\n",
       "      <td>9.57</td>\n",
       "      <td>F</td>\n",
       "      <td>71</td>\n",
       "    </tr>\n",
       "    <tr>\n",
       "      <th>2</th>\n",
       "      <td>CWT</td>\n",
       "      <td>Travel Agency</td>\n",
       "      <td>Online</td>\n",
       "      <td>Rental Vehicle Excess Insurance</td>\n",
       "      <td>No</td>\n",
       "      <td>65</td>\n",
       "      <td>AUSTRALIA</td>\n",
       "      <td>-49.5</td>\n",
       "      <td>29.70</td>\n",
       "      <td>NaN</td>\n",
       "      <td>32</td>\n",
       "    </tr>\n",
       "    <tr>\n",
       "      <th>3</th>\n",
       "      <td>CWT</td>\n",
       "      <td>Travel Agency</td>\n",
       "      <td>Online</td>\n",
       "      <td>Rental Vehicle Excess Insurance</td>\n",
       "      <td>No</td>\n",
       "      <td>60</td>\n",
       "      <td>AUSTRALIA</td>\n",
       "      <td>-39.6</td>\n",
       "      <td>23.76</td>\n",
       "      <td>NaN</td>\n",
       "      <td>32</td>\n",
       "    </tr>\n",
       "    <tr>\n",
       "      <th>4</th>\n",
       "      <td>CWT</td>\n",
       "      <td>Travel Agency</td>\n",
       "      <td>Online</td>\n",
       "      <td>Rental Vehicle Excess Insurance</td>\n",
       "      <td>No</td>\n",
       "      <td>79</td>\n",
       "      <td>ITALY</td>\n",
       "      <td>-19.8</td>\n",
       "      <td>11.88</td>\n",
       "      <td>NaN</td>\n",
       "      <td>41</td>\n",
       "    </tr>\n",
       "  </tbody>\n",
       "</table>\n",
       "</div>"
      ],
      "text/plain": [
       "  Agency    Agency Type Distribution Channel                     Product Name  \\\n",
       "0    CBH  Travel Agency              Offline               Comprehensive Plan   \n",
       "1    CBH  Travel Agency              Offline               Comprehensive Plan   \n",
       "2    CWT  Travel Agency               Online  Rental Vehicle Excess Insurance   \n",
       "3    CWT  Travel Agency               Online  Rental Vehicle Excess Insurance   \n",
       "4    CWT  Travel Agency               Online  Rental Vehicle Excess Insurance   \n",
       "\n",
       "  Claim  Duration Destination  Net Sales  Commision (in value) Gender  Age  \n",
       "0    No       186    MALAYSIA      -29.0                  9.57      F   81  \n",
       "1    No       186    MALAYSIA      -29.0                  9.57      F   71  \n",
       "2    No        65   AUSTRALIA      -49.5                 29.70    NaN   32  \n",
       "3    No        60   AUSTRALIA      -39.6                 23.76    NaN   32  \n",
       "4    No        79       ITALY      -19.8                 11.88    NaN   41  "
      ]
     },
     "execution_count": 6,
     "metadata": {},
     "output_type": "execute_result"
    }
   ],
   "source": [
    "#Creating a copy of data to work with\n",
    "customer_data=df.copy()\n",
    "customer_data.head()"
   ]
  },
  {
   "cell_type": "markdown",
   "metadata": {},
   "source": [
    "Data Wrangling-step1(Check for missing values)-delete columns with more than 50 percent null values."
   ]
  },
  {
   "cell_type": "code",
   "execution_count": 7,
   "metadata": {},
   "outputs": [],
   "source": [
    "#Find the percentage of missing data in each column.and remove the column \n",
    "#with more than 50 percent missing data.\n",
    "customer_data=customer_data.loc[:,customer_data.isnull().mean()<0.5]"
   ]
  },
  {
   "cell_type": "code",
   "execution_count": 8,
   "metadata": {},
   "outputs": [],
   "source": [
    "#Converting claim to numerical column\n",
    "customer_data['Claim']=np.where(customer_data['Claim']=='No',0,1)"
   ]
  },
  {
   "cell_type": "code",
   "execution_count": 65,
   "metadata": {},
   "outputs": [],
   "source": [
    "#This is to set the datetime columns dtypes to datetime.Ignore this if there is no datetime column in the data\n",
    "for col in customer_data.columns:\n",
    "    customer_data = customer_data.apply(lambda col: pd.to_datetime(col, errors='ignore') \n",
    "              if col.dtypes == object \n",
    "              else col, \n",
    "              axis=0)"
   ]
  },
  {
   "cell_type": "markdown",
   "metadata": {},
   "source": [
    "Lets do train test split before starting with imputation techniques."
   ]
  },
  {
   "cell_type": "code",
   "execution_count": 9,
   "metadata": {},
   "outputs": [
    {
     "data": {
      "text/plain": [
       "((44328, 10), (18998, 10))"
      ]
     },
     "execution_count": 9,
     "metadata": {},
     "output_type": "execute_result"
    }
   ],
   "source": [
    "# let's separate into training and testing set\n",
    "\n",
    "X_train, X_test, y_train, y_test = train_test_split(customer_data, customer_data.Claim, test_size=0.3,\n",
    "                                                    random_state=0)\n",
    "X_train.shape, X_test.shape"
   ]
  },
  {
   "cell_type": "markdown",
   "metadata": {},
   "source": [
    "# 1.Feature Engineering of all continuous variables"
   ]
  },
  {
   "cell_type": "code",
   "execution_count": 36,
   "metadata": {},
   "outputs": [],
   "source": [
    "#Imputation of other continuous columns with less than 50 percent missing values with mean or median\n",
    "Numerical_columns=X_train.select_dtypes(include='number').columns"
   ]
  },
  {
   "cell_type": "markdown",
   "metadata": {},
   "source": [
    "# Null value imputation."
   ]
  },
  {
   "cell_type": "code",
   "execution_count": 168,
   "metadata": {},
   "outputs": [],
   "source": [
    "def impute_na(df, variable, median,mean):\n",
    "    df[variable+'_median'] = df[variable].fillna(median)\n",
    "    df[variable+'_zero'] = df[variable].fillna(0) \n",
    "    df[variable+'_mean'] = df[variable].fillna(mean) \n",
    "    # random sampling\n",
    "    df[variable+'_random'] = df[variable]\n",
    "    # extract the random sample to fill the na\n",
    "    random_sample = df[variable].dropna().sample(df[variable].isnull().sum(), random_state=0)\n",
    "    # pandas needs to have the same index in order to merge datasets\n",
    "    random_sample.index = df[df[variable].isnull()].index\n",
    "    df.loc[df[variable].isnull(), variable+'_random'] = random_sample\n",
    "    print(variable +' Original Standard Deviation: ', df[variable].std())\n",
    "    print(variable +' Standard Deviation after median imputation: ', df[variable+'_median'].std())\n",
    "    print(variable +' Standard Deviation after zero imputation: ', df[variable+'_zero'].std())\n",
    "    print(variable +' Standard Deviation after random imputation: ', df[variable+'_random'].std())\n",
    "    print(variable +' Standard Deviation after mean imputation: ', df[variable+'_mean'].std())"
   ]
  },
  {
   "cell_type": "code",
   "execution_count": 181,
   "metadata": {},
   "outputs": [],
   "source": [
    "#Used to analyze the missingness of data\n",
    "def impute_na_arbit(df,variable):\n",
    "    df[variable+'_na'] = np.where(df[variable].isnull(), 1, 0)\n",
    "    df[variable+'_tens'] = np.where(df[variable+'_na']==1, 10, df[variable])\n",
    "    df[variable+'_hundereds'] = np.where(df[variable+'_na']==1,100,df[variable])\n",
    "    print(variable +' Original Standard Deviation: ', df[variable].std())\n",
    "    print(variable +' Standard Deviation after random imputation with ten: ', df[variable+'_tens'].std())\n",
    "    print(variable +' Standard Deviation after random imputation with hundred: ', df[variable+'_hundereds'].std())"
   ]
  },
  {
   "cell_type": "code",
   "execution_count": 186,
   "metadata": {},
   "outputs": [],
   "source": [
    "def impute_na_extreme(df, variable, extreme):\n",
    "    df[variable+'_far_end'] = df[variable].fillna(extreme)\n",
    "    print(variable +' Original Standard Deviation: ', df[variable].std())\n",
    "    print(variable +' Standard Deviation after random imputation with extreme values: ', df[variable+'_far_end'].std())"
   ]
  },
  {
   "cell_type": "markdown",
   "metadata": {},
   "source": [
    "1.Mean,median,zero and random imputation of null values."
   ]
  },
  {
   "cell_type": "code",
   "execution_count": 182,
   "metadata": {},
   "outputs": [
    {
     "name": "stdout",
     "output_type": "stream",
     "text": [
      "Duration Original Standard Deviation:  109.14490025073316\n",
      "Duration Standard Deviation after median imputation:  109.14374679562509\n",
      "Duration Standard Deviation after zero imputation:  109.14392148670473\n",
      "Duration Standard Deviation after random imputation:  109.14373156390202\n",
      "Duration Standard Deviation after mean imputation:  109.14366911039178\n",
      "Duration Original Standard Deviation:  82.08762392734958\n",
      "Duration Standard Deviation after median imputation:  82.08569828798204\n",
      "Duration Standard Deviation after zero imputation:  82.08623534138502\n",
      "Duration Standard Deviation after random imputation:  82.08605809295992\n",
      "Duration Standard Deviation after mean imputation:  82.08546339601261\n"
     ]
    },
    {
     "name": "stderr",
     "output_type": "stream",
     "text": [
      "<ipython-input-168-38c497150cb8>:2: SettingWithCopyWarning: \n",
      "A value is trying to be set on a copy of a slice from a DataFrame.\n",
      "Try using .loc[row_indexer,col_indexer] = value instead\n",
      "\n",
      "See the caveats in the documentation: https://pandas.pydata.org/pandas-docs/stable/user_guide/indexing.html#returning-a-view-versus-a-copy\n",
      "  df[variable+'_median'] = df[variable].fillna(median)\n",
      "<ipython-input-168-38c497150cb8>:3: SettingWithCopyWarning: \n",
      "A value is trying to be set on a copy of a slice from a DataFrame.\n",
      "Try using .loc[row_indexer,col_indexer] = value instead\n",
      "\n",
      "See the caveats in the documentation: https://pandas.pydata.org/pandas-docs/stable/user_guide/indexing.html#returning-a-view-versus-a-copy\n",
      "  df[variable+'_zero'] = df[variable].fillna(0)\n",
      "<ipython-input-168-38c497150cb8>:4: SettingWithCopyWarning: \n",
      "A value is trying to be set on a copy of a slice from a DataFrame.\n",
      "Try using .loc[row_indexer,col_indexer] = value instead\n",
      "\n",
      "See the caveats in the documentation: https://pandas.pydata.org/pandas-docs/stable/user_guide/indexing.html#returning-a-view-versus-a-copy\n",
      "  df[variable+'_mean'] = df[variable].fillna(mean)\n",
      "<ipython-input-168-38c497150cb8>:6: SettingWithCopyWarning: \n",
      "A value is trying to be set on a copy of a slice from a DataFrame.\n",
      "Try using .loc[row_indexer,col_indexer] = value instead\n",
      "\n",
      "See the caveats in the documentation: https://pandas.pydata.org/pandas-docs/stable/user_guide/indexing.html#returning-a-view-versus-a-copy\n",
      "  df[variable+'_random'] = df[variable]\n",
      "C:\\Users\\ADMIN\\anaconda3\\lib\\site-packages\\pandas\\core\\indexing.py:1745: SettingWithCopyWarning: \n",
      "A value is trying to be set on a copy of a slice from a DataFrame.\n",
      "Try using .loc[row_indexer,col_indexer] = value instead\n",
      "\n",
      "See the caveats in the documentation: https://pandas.pydata.org/pandas-docs/stable/user_guide/indexing.html#returning-a-view-versus-a-copy\n",
      "  isetter(ilocs[0], value)\n"
     ]
    }
   ],
   "source": [
    "for cols in Numerical_columns:\n",
    "    mean=X_train[cols].mean()\n",
    "    median=X_train[cols].median()\n",
    "    if (X_train[cols].isnull().sum())>0:\n",
    "        impute_na(X_train,cols,median,mean)\n",
    "    if (X_test[cols].isnull().sum())>0:\n",
    "        impute_na(X_test,cols,median,mean)\n"
   ]
  },
  {
   "cell_type": "markdown",
   "metadata": {},
   "source": [
    "2. Adding a variable to capture NA"
   ]
  },
  {
   "cell_type": "code",
   "execution_count": 183,
   "metadata": {},
   "outputs": [
    {
     "name": "stdout",
     "output_type": "stream",
     "text": [
      "Duration Original Standard Deviation:  109.14490025073316\n",
      "Duration Standard Deviation after random imputation with ten:  109.14382968021782\n",
      "Duration Standard Deviation after random imputation with hundred:  109.14393353325019\n",
      "Duration Original Standard Deviation:  82.08762392734958\n",
      "Duration Standard Deviation after random imputation with ten:  82.08595275200945\n",
      "Duration Standard Deviation after random imputation with hundred:  82.08629504026958\n"
     ]
    },
    {
     "name": "stderr",
     "output_type": "stream",
     "text": [
      "<ipython-input-181-aeb60702971d>:3: SettingWithCopyWarning: \n",
      "A value is trying to be set on a copy of a slice from a DataFrame.\n",
      "Try using .loc[row_indexer,col_indexer] = value instead\n",
      "\n",
      "See the caveats in the documentation: https://pandas.pydata.org/pandas-docs/stable/user_guide/indexing.html#returning-a-view-versus-a-copy\n",
      "  df[variable+'_na'] = np.where(df[variable].isnull(), 1, 0)\n",
      "<ipython-input-181-aeb60702971d>:4: SettingWithCopyWarning: \n",
      "A value is trying to be set on a copy of a slice from a DataFrame.\n",
      "Try using .loc[row_indexer,col_indexer] = value instead\n",
      "\n",
      "See the caveats in the documentation: https://pandas.pydata.org/pandas-docs/stable/user_guide/indexing.html#returning-a-view-versus-a-copy\n",
      "  df[variable+'_tens'] = np.where(df[variable+'_na']==1, 10, df[variable])\n",
      "<ipython-input-181-aeb60702971d>:5: SettingWithCopyWarning: \n",
      "A value is trying to be set on a copy of a slice from a DataFrame.\n",
      "Try using .loc[row_indexer,col_indexer] = value instead\n",
      "\n",
      "See the caveats in the documentation: https://pandas.pydata.org/pandas-docs/stable/user_guide/indexing.html#returning-a-view-versus-a-copy\n",
      "  df[variable+'_hundereds'] = np.where(df[variable+'_na']==1,100,df[variable])\n",
      "<ipython-input-181-aeb60702971d>:3: SettingWithCopyWarning: \n",
      "A value is trying to be set on a copy of a slice from a DataFrame.\n",
      "Try using .loc[row_indexer,col_indexer] = value instead\n",
      "\n",
      "See the caveats in the documentation: https://pandas.pydata.org/pandas-docs/stable/user_guide/indexing.html#returning-a-view-versus-a-copy\n",
      "  df[variable+'_na'] = np.where(df[variable].isnull(), 1, 0)\n",
      "<ipython-input-181-aeb60702971d>:4: SettingWithCopyWarning: \n",
      "A value is trying to be set on a copy of a slice from a DataFrame.\n",
      "Try using .loc[row_indexer,col_indexer] = value instead\n",
      "\n",
      "See the caveats in the documentation: https://pandas.pydata.org/pandas-docs/stable/user_guide/indexing.html#returning-a-view-versus-a-copy\n",
      "  df[variable+'_tens'] = np.where(df[variable+'_na']==1, 10, df[variable])\n",
      "<ipython-input-181-aeb60702971d>:5: SettingWithCopyWarning: \n",
      "A value is trying to be set on a copy of a slice from a DataFrame.\n",
      "Try using .loc[row_indexer,col_indexer] = value instead\n",
      "\n",
      "See the caveats in the documentation: https://pandas.pydata.org/pandas-docs/stable/user_guide/indexing.html#returning-a-view-versus-a-copy\n",
      "  df[variable+'_hundereds'] = np.where(df[variable+'_na']==1,100,df[variable])\n"
     ]
    }
   ],
   "source": [
    "for cols in Numerical_columns:\n",
    "    if (X_train[cols].isnull().sum())>0:\n",
    "        impute_na_arbit(X_train,cols)\n",
    "    if (X_test[cols].isnull().sum())>0:\n",
    "        impute_na_arbit(X_test,cols)"
   ]
  },
  {
   "cell_type": "markdown",
   "metadata": {},
   "source": [
    "3.Imputation with value at the far end of the distribution"
   ]
  },
  {
   "cell_type": "code",
   "execution_count": 187,
   "metadata": {},
   "outputs": [
    {
     "name": "stdout",
     "output_type": "stream",
     "text": [
      "Duration Original Standard Deviation:  109.14490025073316\n",
      "Duration Standard Deviation after random imputation with extreme values:  109.15474862363294\n",
      "Duration Original Standard Deviation:  82.08762392734958\n",
      "Duration Standard Deviation after random imputation with extreme values:  82.11990447613067\n"
     ]
    },
    {
     "name": "stderr",
     "output_type": "stream",
     "text": [
      "<ipython-input-186-e1af88914098>:2: SettingWithCopyWarning: \n",
      "A value is trying to be set on a copy of a slice from a DataFrame.\n",
      "Try using .loc[row_indexer,col_indexer] = value instead\n",
      "\n",
      "See the caveats in the documentation: https://pandas.pydata.org/pandas-docs/stable/user_guide/indexing.html#returning-a-view-versus-a-copy\n",
      "  df[variable+'_far_end'] = df[variable].fillna(extreme)\n"
     ]
    }
   ],
   "source": [
    "for cols in Numerical_columns:\n",
    "    if (X_train[cols].isnull().sum())>0:\n",
    "        impute_na_extreme(X_train, cols, X_train[cols].mean()+3*X_train[cols].std())\n",
    "    if (X_test[cols].isnull().sum())>0:\n",
    "        impute_na_extreme(X_test, cols, X_train[cols].mean()+3*X_train[cols].std())"
   ]
  },
  {
   "cell_type": "markdown",
   "metadata": {},
   "source": [
    "# Handling outliers"
   ]
  },
  {
   "cell_type": "markdown",
   "metadata": {},
   "source": [
    "Check for distribution of variable before going to the outlier imputation."
   ]
  },
  {
   "cell_type": "code",
   "execution_count": 194,
   "metadata": {},
   "outputs": [
    {
     "data": {
      "text/plain": [
       "Index(['Claim', 'Duration', 'Net Sales', 'Commision (in value)', 'Age'], dtype='object')"
      ]
     },
     "execution_count": 194,
     "metadata": {},
     "output_type": "execute_result"
    }
   ],
   "source": [
    "Numerical_columns"
   ]
  },
  {
   "cell_type": "code",
   "execution_count": 202,
   "metadata": {},
   "outputs": [
    {
     "data": {
      "text/plain": [
       "<AxesSubplot:ylabel='Age'>"
      ]
     },
     "execution_count": 202,
     "metadata": {},
     "output_type": "execute_result"
    },
    {
     "data": {
      "image/png": "[encoded data removed]",
      "text/plain": [
       "<Figure size 360x720 with 2 Axes>"
      ]
     },
     "metadata": {
      "needs_background": "light"
     },
     "output_type": "display_data"
    }
   ],
   "source": [
    "plt.subplots(2,1 ,figsize = (5,10))\n",
    "plt.subplot(211)\n",
    "sns.kdeplot(X_train.Age)\n",
    "plt.subplot(212)\n",
    "sns.boxplot(y='Age', data=X_train)"
   ]
  },
  {
   "cell_type": "code",
   "execution_count": 203,
   "metadata": {},
   "outputs": [
    {
     "data": {
      "text/plain": [
       "<AxesSubplot:ylabel='Commision (in value)'>"
      ]
     },
     "execution_count": 203,
     "metadata": {},
     "output_type": "execute_result"
    },
    {
     "data": {
      "image/png": "[encoded data removed]",
      "text/plain": [
       "<Figure size 360x720 with 2 Axes>"
      ]
     },
     "metadata": {
      "needs_background": "light"
     },
     "output_type": "display_data"
    }
   ],
   "source": [
    "plt.subplots(2,1 ,figsize = (5,10))\n",
    "plt.subplot(211)\n",
    "sns.kdeplot(X_train['Commision (in value)'])\n",
    "plt.subplot(212)\n",
    "sns.boxplot(y='Commision (in value)', data=X_train)"
   ]
  },
  {
   "cell_type": "code",
   "execution_count": 204,
   "metadata": {},
   "outputs": [
    {
     "data": {
      "text/plain": [
       "<AxesSubplot:ylabel='Net Sales'>"
      ]
     },
     "execution_count": 204,
     "metadata": {},
     "output_type": "execute_result"
    },
    {
     "data": {
      "image/png": "[encoded data removed]",
      "text/plain": [
       "<Figure size 360x720 with 2 Axes>"
      ]
     },
     "metadata": {
      "needs_background": "light"
     },
     "output_type": "display_data"
    }
   ],
   "source": [
    "plt.subplots(2,1 ,figsize = (5,10))\n",
    "plt.subplot(211)\n",
    "sns.kdeplot(X_train['Net Sales'])\n",
    "plt.subplot(212)\n",
    "sns.boxplot(y='Net Sales', data=X_train)"
   ]
  },
  {
   "cell_type": "code",
   "execution_count": 205,
   "metadata": {},
   "outputs": [
    {
     "data": {
      "text/plain": [
       "<AxesSubplot:ylabel='Duration'>"
      ]
     },
     "execution_count": 205,
     "metadata": {},
     "output_type": "execute_result"
    },
    {
     "data": {
      "image/png": "[encoded data removed]",
      "text/plain": [
       "<Figure size 360x720 with 2 Axes>"
      ]
     },
     "metadata": {
      "needs_background": "light"
     },
     "output_type": "display_data"
    }
   ],
   "source": [
    "plt.subplots(2,1 ,figsize = (5,10))\n",
    "plt.subplot(211)\n",
    "sns.kdeplot(X_train['Duration'])\n",
    "plt.subplot(212)\n",
    "sns.boxplot(y='Duration', data=X_train)"
   ]
  },
  {
   "cell_type": "markdown",
   "metadata": {},
   "source": [
    "All the numeric columns have a non-normal distribution."
   ]
  },
  {
   "cell_type": "code",
   "execution_count": 206,
   "metadata": {},
   "outputs": [],
   "source": [
    "#Treating outliers with zero coding-Any value less than zero will be made zero\n",
    "def outliers_ZeroCoding(X,variable):\n",
    "    X.loc[X[variable]<0, variable] = 0 "
   ]
  },
  {
   "cell_type": "markdown",
   "metadata": {},
   "source": [
    "# Outlier imputation-Non-normal distribution"
   ]
  },
  {
   "cell_type": "code",
   "execution_count": 209,
   "metadata": {},
   "outputs": [],
   "source": [
    "#Treating outliers with top coding-Any value greater than maximum limit will be capped at maximum\n",
    "def outliers_TopCoding_quantile(X_train,X_test,variable):\n",
    "    # top coding: upper boundary for outliers according to interquantile proximity rule\n",
    "    IQR = X_train[variable].quantile(0.75) - X_train[variable].quantile(0.25)\n",
    "    Upper_fence = X_train[variable].quantile(0.75) + (IQR * 3)\n",
    "    X_train.loc[X_train[variable]>Upper_fence, variable] = Upper_fence\n",
    "    X_test.loc[X_test[variable]>Upper_fence, variable] = Upper_fence"
   ]
  },
  {
   "cell_type": "code",
   "execution_count": 210,
   "metadata": {},
   "outputs": [],
   "source": [
    "#Treating outliers with top coding-Any value less than minimum limit will be capped at minimum\n",
    "def outliers_BottomCoding_quantile(X_train,X_test,variable):\n",
    "    # bottom coding: lower boundary for outliers according to interquantile proximity rule\n",
    "    IQR = X_train[variable].quantile(0.75) - X_train[variable].quantile(0.25)\n",
    "    Lower_fence = X_train[variable].quantile(0.25) - (IQR * 3)\n",
    "    X_train.loc[X_train[variable]<Lower_fence, variable] = Lower_fence\n",
    "    X_test.loc[X_test[variable]<Lower_fence, variable] = Lower_fence \n",
    "    "
   ]
  },
  {
   "cell_type": "code",
   "execution_count": 216,
   "metadata": {},
   "outputs": [],
   "source": [
    "for cols in Numerical_columns:\n",
    "    outliers_TopCoding_quantile(X_train,X_test,cols)\n",
    "    outliers_BottomCoding_quantile(X_train,X_test,cols)\n",
    "   "
   ]
  },
  {
   "cell_type": "markdown",
   "metadata": {},
   "source": [
    "# Outlier imputation-normal distribution"
   ]
  },
  {
   "cell_type": "code",
   "execution_count": 207,
   "metadata": {},
   "outputs": [],
   "source": [
    "#Treating outliers with top coding-Any value greater than maximum limit will be capped at maximum\n",
    "def outliers_TopCoding_gaussian(X_train,X_test,variable):\n",
    "    # top coding: upper boundary for outliers according to gaussian rule\n",
    "    Upper_fence = X_train[variable].mean()+3*X_train[variable].std()\n",
    "    X_train.loc[X_train[variable]>Upper_fence, variable] = Upper_fence\n",
    "    X_test.loc[X_test[variable]>Upper_fence, variable] = Upper_fence"
   ]
  },
  {
   "cell_type": "code",
   "execution_count": 208,
   "metadata": {},
   "outputs": [],
   "source": [
    "#Treating outliers with top coding-Any value less than minimum limit will be capped at minimum\n",
    "def outliers_BottomCoding_gaussian(X_train,X_test,variable):\n",
    "    # bottom coding: lower boundary for outliers according to gaussian rule\n",
    "    Lower_fence = X_train[variable].mean()-3*X_train[variable].std()\n",
    "    X_train.loc[X_train[variable]<Lower_fence, variable] = Lower_fence\n",
    "    X_test.loc[X_test[variable]<Lower_fence, variable] = Lower_fence \n",
    "    "
   ]
  },
  {
   "cell_type": "markdown",
   "metadata": {},
   "source": [
    "Next step will be to convert these non-normal distribution to normal."
   ]
  },
  {
   "cell_type": "markdown",
   "metadata": {},
   "source": [
    "# Gaussian Transformation"
   ]
  },
  {
   "cell_type": "code",
   "execution_count": 227,
   "metadata": {},
   "outputs": [],
   "source": [
    "def transform_BoxCox(X_train,X_test,variable):\n",
    "    X_train[variable+'_boxcox'], param = stats.boxcox(X_train[variable])\n",
    "    X_test[variable+'_boxcox'], param = stats.boxcox(X_test[variable])\n",
    "    print('Optimal lambda: ', param)"
   ]
  },
  {
   "cell_type": "code",
   "execution_count": null,
   "metadata": {},
   "outputs": [],
   "source": [
    "for cols in Numerical_columns:\n",
    "    transform_BoxCox(X_train,X_test,cols)\n",
    "    \n"
   ]
  },
  {
   "cell_type": "markdown",
   "metadata": {},
   "source": [
    "# Discretisation"
   ]
  },
  {
   "cell_type": "markdown",
   "metadata": {},
   "source": [
    "1.Equal frequency discretisation"
   ]
  },
  {
   "cell_type": "code",
   "execution_count": 39,
   "metadata": {},
   "outputs": [],
   "source": [
    "def disc_EqualFreq(X_train,X_test,variable):\n",
    "    # create 10 labels, one for each quantile\n",
    "    labels = ['Q'+str(i+1) for i in range(0,10)]\n",
    "    # bins with labels\n",
    "    # precision=3 means up to 3 places of decimal\n",
    "    #X_train[variable+'_disc_label'], bins = pd.qcut(x=X_train[variable], q=10, retbins=True, precision=3, duplicates='drop')\n",
    "    # bins with boundaries\n",
    "    X_train[variable+'_disc'], bins = pd.qcut(x=X_train[variable], q=10, retbins=True, precision=3, duplicates='drop')\n",
    "    #X_test[variable+'_disc_label'] = pd.cut(x = X_test.Age, bins=bins)\n",
    "    X_test[variable+'_disc'] = pd.cut(x = X_test.Age, bins=bins)\n",
    "    "
   ]
  },
  {
   "cell_type": "markdown",
   "metadata": {},
   "source": [
    "2.Equal width discretisation"
   ]
  },
  {
   "cell_type": "code",
   "execution_count": 35,
   "metadata": {},
   "outputs": [],
   "source": [
    "def disc_EqualWidth(X_train,X_test,variable):\n",
    "    # now let's capture the lower and upper boundaries\n",
    "    min_value = int(np.floor(X_train[variable].min()))\n",
    "    max_value = int(np.ceil(X_train[variable].max()))\n",
    "    range_value = max_value - min_value\n",
    "    # let's round the bin width\n",
    "    inter_value = int(np.round(range_value/10))\n",
    "    intervals = [i for i in range(min_value, max_value+inter_value, inter_value)]\n",
    "    labels = ['Bin_'+str(i) for i in range(1,len(intervals))]\n",
    "    # create one column with labels\n",
    "    X_train[variable+'_disc_label'] = pd.cut(x = X_train[variable], bins=intervals, labels=labels, include_lowest=True)\n",
    "    # and one with bin boundaries\n",
    "    X_train[variable+'_disc'] = pd.cut(x = X_train[variable], bins=intervals, include_lowest=True)\n",
    "    X_test[variable+'_disc_label'] = pd.cut(x = X_test[variable], bins=intervals, labels=labels, include_lowest=True)\n",
    "    X_test[variable+'_disc'] = pd.cut(x = X_test[variable], bins=intervals, include_lowest=True)"
   ]
  },
  {
   "cell_type": "code",
   "execution_count": 37,
   "metadata": {},
   "outputs": [],
   "source": [
    "#Use any of the above 2 methods the for loop of all numerical columns\n",
    "for cols in Numerical_columns:\n",
    "    disc_EqualFreq(X_train,X_test,cols)"
   ]
  },
  {
   "cell_type": "markdown",
   "metadata": {},
   "source": [
    "# Feature Scaling"
   ]
  },
  {
   "cell_type": "markdown",
   "metadata": {},
   "source": [
    "Algorithms that require explicit feature  are\n",
    "  Linear and Logistic Regression\n",
    "  Neural Networks\n",
    "  Support Vector Machines\n",
    "  KNN\n",
    "  K-means clustering\n",
    "  Linear Discriminant Analysis (LDA)\n",
    "  Principal Component Analysis (PCA)"
   ]
  },
  {
   "cell_type": "markdown",
   "metadata": {},
   "source": [
    "1.Standard Scalar:  z = (x - x_mean) / std"
   ]
  },
  {
   "cell_type": "code",
   "execution_count": 45,
   "metadata": {},
   "outputs": [],
   "source": [
    "def scaler_Standard(X_train,X_test):\n",
    "    # the scaler - for standardisation\n",
    "    from sklearn.preprocessing import StandardScaler\n",
    "    # set up the scaler\n",
    "    scaler = StandardScaler()\n",
    "    # fit the scaler to the train set, it will learn the parameters\n",
    "    scaler.fit(X_train)\n",
    "    # transform train and test sets\n",
    "    X_train_scaled = scaler.transform(X_train)\n",
    "    X_test_scaled = scaler.transform(X_test)\n",
    "    # let's transform the returned NumPy arrays to dataframes \n",
    "    X_train_scaled = pd.DataFrame(X_train_scaled, columns=X_train.columns)\n",
    "    X_test_scaled = pd.DataFrame(X_test_scaled, columns=X_test.columns)\n",
    "    return X_train_scaled,X_test_scaled"
   ]
  },
  {
   "cell_type": "markdown",
   "metadata": {},
   "source": [
    "2.Mean Normalisation: z=(x-x_mean)/(x_max-x_min)"
   ]
  },
  {
   "cell_type": "code",
   "execution_count": 48,
   "metadata": {},
   "outputs": [],
   "source": [
    "def scaler_MeanNormalisation(X_train,X_test):\n",
    "    means = X_train.mean(axis=0)\n",
    "    ranges = X_train.max(axis=0)-X_train.min(axis=0)\n",
    "    X_train_scaled = (X_train - means) / ranges\n",
    "    X_test_scaled = (X_test - means) / ranges\n",
    "    return X_train_scaled,X_test_scaled"
   ]
  },
  {
   "cell_type": "markdown",
   "metadata": {},
   "source": [
    "3.MinMaxScaling:x_scaled=(x-x_min)/(x_max-x_min)"
   ]
  },
  {
   "cell_type": "code",
   "execution_count": 49,
   "metadata": {},
   "outputs": [],
   "source": [
    "def scaler_MinMax(X_train,X_test):\n",
    "    # the scaler - for min-max scaling\n",
    "    from sklearn.preprocessing import MinMaxScaler\n",
    "    # set up the scaler\n",
    "    scaler = MinMaxScaler()\n",
    "    # fit the scaler to the train set, it will learn the parameters\n",
    "    scaler.fit(X_train)\n",
    "    # transform train and test sets\n",
    "    X_train_scaled = scaler.transform(X_train)\n",
    "    X_test_scaled = scaler.transform(X_test)\n",
    "    # let's transform the returned NumPy arrays to dataframes \n",
    "    X_train_scaled = pd.DataFrame(X_train_scaled, columns=X_train.columns)\n",
    "    X_test_scaled = pd.DataFrame(X_test_scaled, columns=X_test.columns)\n",
    "    return X_train_scaled,X_test_scaled"
   ]
  },
  {
   "cell_type": "markdown",
   "metadata": {},
   "source": [
    "4.MaxAbsScaling:x_scaled=x/x_max"
   ]
  },
  {
   "cell_type": "code",
   "execution_count": 50,
   "metadata": {},
   "outputs": [],
   "source": [
    "def scaler_MaxAbs(X_train,X_test):\n",
    "    # the scaler - for min-max scaling\n",
    "    from sklearn.preprocessing import MaxAbsScaler\n",
    "    # set up the scaler\n",
    "    scaler = MaxAbsScaler()\n",
    "    # fit the scaler to the train set, it will learn the parameters\n",
    "    scaler.fit(X_train)\n",
    "    # transform train and test sets\n",
    "    X_train_scaled = scaler.transform(X_train)\n",
    "    X_test_scaled = scaler.transform(X_test)\n",
    "    # let's transform the returned NumPy arrays to dataframes \n",
    "    X_train_scaled = pd.DataFrame(X_train_scaled, columns=X_train.columns)\n",
    "    X_test_scaled = pd.DataFrame(X_test_scaled, columns=X_test.columns)\n",
    "    return X_train_scaled,X_test_scaled"
   ]
  },
  {
   "cell_type": "markdown",
   "metadata": {},
   "source": [
    "5.RobustScaling:X_scaled = X - X_median / ( X.quantile(0.75) - X.quantile(0.25) )"
   ]
  },
  {
   "cell_type": "code",
   "execution_count": 51,
   "metadata": {},
   "outputs": [],
   "source": [
    "def scaler_Robust(X_train,X_test):\n",
    "    # the scaler - for min-max scaling\n",
    "    from sklearn.preprocessing import RobustScaler\n",
    "    # set up the scaler\n",
    "    scaler = RobustScaler()\n",
    "    # fit the scaler to the train set, it will learn the parameters\n",
    "    scaler.fit(X_train)\n",
    "    # transform train and test sets\n",
    "    X_train_scaled = scaler.transform(X_train)\n",
    "    X_test_scaled = scaler.transform(X_test)\n",
    "    # let's transform the returned NumPy arrays to dataframes \n",
    "    X_train_scaled = pd.DataFrame(X_train_scaled, columns=X_train.columns)\n",
    "    X_test_scaled = pd.DataFrame(X_test_scaled, columns=X_test.columns)\n",
    "    return X_train_scaled,X_test_scaled"
   ]
  },
  {
   "cell_type": "code",
   "execution_count": 55,
   "metadata": {},
   "outputs": [
    {
     "data": {
      "text/html": [
       "<div>\n",
       "<style scoped>\n",
       "    .dataframe tbody tr th:only-of-type {\n",
       "        vertical-align: middle;\n",
       "    }\n",
       "\n",
       "    .dataframe tbody tr th {\n",
       "        vertical-align: top;\n",
       "    }\n",
       "\n",
       "    .dataframe thead th {\n",
       "        text-align: right;\n",
       "    }\n",
       "</style>\n",
       "<table border=\"1\" class=\"dataframe\">\n",
       "  <thead>\n",
       "    <tr style=\"text-align: right;\">\n",
       "      <th></th>\n",
       "      <th>Net Sales</th>\n",
       "      <th>Commision (in value)</th>\n",
       "      <th>Age</th>\n",
       "      <th>Duration</th>\n",
       "    </tr>\n",
       "  </thead>\n",
       "  <tbody>\n",
       "    <tr>\n",
       "      <th>62988</th>\n",
       "      <td>216.0</td>\n",
       "      <td>54.00</td>\n",
       "      <td>57</td>\n",
       "      <td>365</td>\n",
       "    </tr>\n",
       "    <tr>\n",
       "      <th>51258</th>\n",
       "      <td>10.0</td>\n",
       "      <td>0.00</td>\n",
       "      <td>33</td>\n",
       "      <td>4</td>\n",
       "    </tr>\n",
       "    <tr>\n",
       "      <th>17742</th>\n",
       "      <td>22.0</td>\n",
       "      <td>7.70</td>\n",
       "      <td>26</td>\n",
       "      <td>19</td>\n",
       "    </tr>\n",
       "    <tr>\n",
       "      <th>49241</th>\n",
       "      <td>112.0</td>\n",
       "      <td>0.00</td>\n",
       "      <td>59</td>\n",
       "      <td>20</td>\n",
       "    </tr>\n",
       "    <tr>\n",
       "      <th>57537</th>\n",
       "      <td>16.0</td>\n",
       "      <td>4.00</td>\n",
       "      <td>28</td>\n",
       "      <td>8</td>\n",
       "    </tr>\n",
       "    <tr>\n",
       "      <th>...</th>\n",
       "      <td>...</td>\n",
       "      <td>...</td>\n",
       "      <td>...</td>\n",
       "      <td>...</td>\n",
       "    </tr>\n",
       "    <tr>\n",
       "      <th>45891</th>\n",
       "      <td>30.0</td>\n",
       "      <td>0.00</td>\n",
       "      <td>36</td>\n",
       "      <td>14</td>\n",
       "    </tr>\n",
       "    <tr>\n",
       "      <th>52416</th>\n",
       "      <td>79.2</td>\n",
       "      <td>47.52</td>\n",
       "      <td>47</td>\n",
       "      <td>17</td>\n",
       "    </tr>\n",
       "    <tr>\n",
       "      <th>42613</th>\n",
       "      <td>30.0</td>\n",
       "      <td>10.50</td>\n",
       "      <td>50</td>\n",
       "      <td>64</td>\n",
       "    </tr>\n",
       "    <tr>\n",
       "      <th>43567</th>\n",
       "      <td>36.0</td>\n",
       "      <td>0.00</td>\n",
       "      <td>36</td>\n",
       "      <td>51</td>\n",
       "    </tr>\n",
       "    <tr>\n",
       "      <th>2732</th>\n",
       "      <td>0.0</td>\n",
       "      <td>17.82</td>\n",
       "      <td>31</td>\n",
       "      <td>172</td>\n",
       "    </tr>\n",
       "  </tbody>\n",
       "</table>\n",
       "<p>44328 rows × 4 columns</p>\n",
       "</div>"
      ],
      "text/plain": [
       "       Net Sales  Commision (in value)  Age  Duration\n",
       "62988      216.0                 54.00   57       365\n",
       "51258       10.0                  0.00   33         4\n",
       "17742       22.0                  7.70   26        19\n",
       "49241      112.0                  0.00   59        20\n",
       "57537       16.0                  4.00   28         8\n",
       "...          ...                   ...  ...       ...\n",
       "45891       30.0                  0.00   36        14\n",
       "52416       79.2                 47.52   47        17\n",
       "42613       30.0                 10.50   50        64\n",
       "43567       36.0                  0.00   36        51\n",
       "2732         0.0                 17.82   31       172\n",
       "\n",
       "[44328 rows x 4 columns]"
      ]
     },
     "execution_count": 55,
     "metadata": {},
     "output_type": "execute_result"
    }
   ],
   "source": [
    "X_train.loc[:,['Net Sales','Commision (in value)','Age','Duration']]"
   ]
  },
  {
   "cell_type": "markdown",
   "metadata": {},
   "source": [
    "Call any of the above five methods to do feature scaling"
   ]
  },
  {
   "cell_type": "code",
   "execution_count": 56,
   "metadata": {},
   "outputs": [],
   "source": [
    "X_train_scaled,X_test_scaled=scaler_Robust(X_train.loc[:,['Net Sales','Commision (in value)','Age','Duration']],X_train.loc[:,['Net Sales','Commision (in value)','Age','Duration']])"
   ]
  },
  {
   "cell_type": "code",
   "execution_count": 57,
   "metadata": {},
   "outputs": [
    {
     "data": {
      "text/html": [
       "<div>\n",
       "<style scoped>\n",
       "    .dataframe tbody tr th:only-of-type {\n",
       "        vertical-align: middle;\n",
       "    }\n",
       "\n",
       "    .dataframe tbody tr th {\n",
       "        vertical-align: top;\n",
       "    }\n",
       "\n",
       "    .dataframe thead th {\n",
       "        text-align: right;\n",
       "    }\n",
       "</style>\n",
       "<table border=\"1\" class=\"dataframe\">\n",
       "  <thead>\n",
       "    <tr style=\"text-align: right;\">\n",
       "      <th></th>\n",
       "      <th>Net Sales</th>\n",
       "      <th>Commision (in value)</th>\n",
       "      <th>Age</th>\n",
       "      <th>Duration</th>\n",
       "    </tr>\n",
       "  </thead>\n",
       "  <tbody>\n",
       "    <tr>\n",
       "      <th>0</th>\n",
       "      <td>6.316667</td>\n",
       "      <td>4.675325</td>\n",
       "      <td>2.625</td>\n",
       "      <td>7.795455</td>\n",
       "    </tr>\n",
       "    <tr>\n",
       "      <th>1</th>\n",
       "      <td>-0.550000</td>\n",
       "      <td>0.000000</td>\n",
       "      <td>-0.375</td>\n",
       "      <td>-0.409091</td>\n",
       "    </tr>\n",
       "    <tr>\n",
       "      <th>2</th>\n",
       "      <td>-0.150000</td>\n",
       "      <td>0.666667</td>\n",
       "      <td>-1.250</td>\n",
       "      <td>-0.068182</td>\n",
       "    </tr>\n",
       "    <tr>\n",
       "      <th>3</th>\n",
       "      <td>2.850000</td>\n",
       "      <td>0.000000</td>\n",
       "      <td>2.875</td>\n",
       "      <td>-0.045455</td>\n",
       "    </tr>\n",
       "    <tr>\n",
       "      <th>4</th>\n",
       "      <td>-0.350000</td>\n",
       "      <td>0.346320</td>\n",
       "      <td>-1.000</td>\n",
       "      <td>-0.318182</td>\n",
       "    </tr>\n",
       "  </tbody>\n",
       "</table>\n",
       "</div>"
      ],
      "text/plain": [
       "   Net Sales  Commision (in value)    Age  Duration\n",
       "0   6.316667              4.675325  2.625  7.795455\n",
       "1  -0.550000              0.000000 -0.375 -0.409091\n",
       "2  -0.150000              0.666667 -1.250 -0.068182\n",
       "3   2.850000              0.000000  2.875 -0.045455\n",
       "4  -0.350000              0.346320 -1.000 -0.318182"
      ]
     },
     "execution_count": 57,
     "metadata": {},
     "output_type": "execute_result"
    }
   ],
   "source": [
    "X_train_scaled.head()"
   ]
  },
  {
   "cell_type": "markdown",
   "metadata": {},
   "source": [
    "# 2.Feature Engineering of all categorical values"
   ]
  },
  {
   "cell_type": "markdown",
   "metadata": {},
   "source": [
    "# Null value imputation"
   ]
  },
  {
   "cell_type": "code",
   "execution_count": 236,
   "metadata": {},
   "outputs": [],
   "source": [
    "def impute_na_freq(X_train, X_test, variable):\n",
    "    # find out most frequent category\n",
    "    most_frequent_category = X_train.groupby([variable])[variable].count().sort_values(ascending=False).index[0] \n",
    "    \n",
    "    ## replace missing values with most frequent category\n",
    "    X_train[variable].fillna(most_frequent_category, inplace=True)\n",
    "    X_test[variable].fillna(most_frequent_category, inplace=True)"
   ]
  },
  {
   "cell_type": "code",
   "execution_count": 261,
   "metadata": {},
   "outputs": [],
   "source": [
    "def impute_na_addCat(X_train, X_test, variable):\n",
    "    if((X_train[variable].isnull().sum())>0):\n",
    "        X_train[variable+'_NA'] = np.where(X_train[variable].isnull(), 'Missing', X_train[variable])\n",
    "    if((X_test[variable].isnull().sum())>0):\n",
    "        X_test[variable+'_NA'] = np.where(X_test[variable].isnull(), 'Missing', X_test[variable])"
   ]
  },
  {
   "cell_type": "code",
   "execution_count": 61,
   "metadata": {},
   "outputs": [],
   "source": [
    "#This is to seperate datetime columns from categorical\n",
    "Categorical_Columns=X_train.select_dtypes(include=['category',object]).columns"
   ]
  },
  {
   "cell_type": "code",
   "execution_count": 258,
   "metadata": {},
   "outputs": [],
   "source": [
    "for cols in Categorical_Columns:\n",
    "    impute_na_addCat(X_train,X_test,cols)\n",
    "    impute_na_freq(X_train,X_test,cols)"
   ]
  },
  {
   "cell_type": "markdown",
   "metadata": {},
   "source": [
    "# Handling Outliers"
   ]
  },
  {
   "cell_type": "code",
   "execution_count": 265,
   "metadata": {},
   "outputs": [],
   "source": [
    "def rare_new_imputation(X_train,X_test,variable,rare_cat):\n",
    "    temp = X_train.groupby([variable])[variable].count()/np.float(len(X_train))\n",
    "    rare_cat = [x for x in temp.loc[temp<0.05].index.values]\n",
    "    X_train[variable+'_rare_imp'] = np.where(X_train[variable].isin(rare_cat), 'Others', X_train[variable])\n",
    "    X_test[variable+'_rare_imp'] = np.where(X_test[variable].isin(rare_cat), 'Others', X_test[variable])\n",
    "      \n",
    "    "
   ]
  },
  {
   "cell_type": "code",
   "execution_count": 266,
   "metadata": {},
   "outputs": [],
   "source": [
    "def rare_freq_imputation(X_train,X_test,variable,rare_cat,frequent_cat):\n",
    "    # create new variables, with freq labels imputed\n",
    "    \n",
    "    # by the most frequent category\n",
    "    X_train[variable+'_freq_imp'] = np.where(X_train[variable].isin(rare_cat), frequent_cat, X_train[variable])\n",
    "    X_test[variable+'_freq_imp'] = np.where(X_test[variable].isin(rare_cat), frequent_cat, X_test[variable])"
   ]
  },
  {
   "cell_type": "markdown",
   "metadata": {},
   "source": [
    "Group all categories under 5% into one common category 'others' or into the most frequent category"
   ]
  },
  {
   "cell_type": "code",
   "execution_count": 268,
   "metadata": {},
   "outputs": [],
   "source": [
    "for cols in Categorical_Columns:\n",
    "     # find the most frequent category\n",
    "    frequent_cat = X_train.groupby(cols)[cols].count().sort_values().tail(1).index.values[0]\n",
    "    \n",
    "    # find rare labels\n",
    "    temp = X_train.groupby([cols])[cols].count()/np.float(len(X_train))\n",
    "    rare_cat = [x for x in temp.loc[temp<0.05].index.values]\n",
    "    #Introduce a new label only if there are more than one rare categories.else combine the rare \n",
    "    #category with most frequent one\n",
    "    if len(rare_cat) > 1:\n",
    "        rare_new_imputation(X_train,X_test,cols,rare_cat)\n",
    "    else:\n",
    "        rare_freq_imputation(X_train,X_test,cols,rare_cat,frequent_cat)\n",
    "    "
   ]
  },
  {
   "cell_type": "markdown",
   "metadata": {},
   "source": [
    "# Convert categorical values to numbers."
   ]
  },
  {
   "cell_type": "code",
   "execution_count": 17,
   "metadata": {},
   "outputs": [],
   "source": [
    "def CategoricalImputation_OneHot(df,variable):\n",
    "    temp=pd.get_dummies(df[variable], drop_first=True)\n",
    "    items=[df,temp]\n",
    "    df=pd.concat(items,axis=1)\n",
    "    return df"
   ]
  },
  {
   "cell_type": "code",
   "execution_count": 18,
   "metadata": {},
   "outputs": [],
   "source": [
    "#Using weight of evidence encoding technique\n",
    "def CategoricalImputation_WOE(X_train,X_test,variable,target_variable):\n",
    "    # now we calculate the probability of target=1 \n",
    "    prob_df = X_train.groupby([variable])[target_variable].mean()\n",
    "    prob_df = pd.DataFrame(prob_df)\n",
    "    \n",
    "    # and now the probability of target = 0 \n",
    "    # and we add it to the dataframe\n",
    "    prob_df['target_0'] = 1-prob_df[target_variable]\n",
    "    prob_df.loc[prob_df[target_variable] == 0, target_variable] = 0.001\n",
    "    prob_df['WoE'] = np.log(prob_df[target_variable]/prob_df['target_0'])\n",
    "    ordered_labels = prob_df['WoE'].to_dict()\n",
    "    X_train[variable+'_ordered'] = X_train[variable].map(ordered_labels)\n",
    "    X_test[variable+'_ordered'] = X_test[variable].map(ordered_labels)"
   ]
  },
  {
   "cell_type": "code",
   "execution_count": 19,
   "metadata": {},
   "outputs": [],
   "source": [
    "#Replace labels by risk factor encoding technique\n",
    "def CategoricalImputation_RiskFactor(X_train,X_test,variable,target_variable):\n",
    "    ordered_labels = X_train.groupby([variable])[target_variable].mean().to_dict()\n",
    "    X_train[variable+'_ordered'] = X_train[variable].map(ordered_labels)\n",
    "    X_test[variable+'_ordered'] = X_test[variable].map(ordered_labels)"
   ]
  },
  {
   "cell_type": "code",
   "execution_count": 20,
   "metadata": {},
   "outputs": [],
   "source": [
    "#Trying to use monotonicity encoding technique\n",
    "def CategoricalImputation_Monotonicity(X_train,X_test,variable,target_variable):\n",
    "    ordered_labels=X_train.groupby([variable])[target_variable].mean().sort_values().index\n",
    "    ordinal_label = {k:i for i, k in enumerate(ordered_labels, 1)}\n",
    "    X_train[variable+'_ordered']=X_train[variable].map(ordinal_label)\n",
    "    X_test[variable+'_ordered']=X_test[variable].map(ordinal_label)\n",
    "    "
   ]
  },
  {
   "cell_type": "code",
   "execution_count": 276,
   "metadata": {},
   "outputs": [],
   "source": [
    "#Replace labels by risk factor encoding technique\n",
    "def CategoricalImputation_PRE(X_train,X_test,variable,target_variable):\n",
    "    # now we calculate the probability of target=1 \n",
    "    prob_df = X_train.groupby([variable])[target_variable].mean()\n",
    "    prob_df = pd.DataFrame(prob_df)\n",
    "    \n",
    "    # and now the probability of target = 0 \n",
    "    # and we add it to the dataframe\n",
    "    prob_df['target_0'] = 1-prob_df[target_variable]\n",
    "    prob_df.loc[prob_df['target_0'] == 0, 'target_0'] = 0.001\n",
    "    prob_df['PRE'] = prob_df[target_variable]/prob_df['target_0']\n",
    "    ordered_labels = prob_df['PRE'].to_dict()\n",
    "    X_train[variable+'_ordered'] = X_train[variable].map(ordered_labels)\n",
    "    X_test[variable+'_ordered'] = X_test[variable].map(ordered_labels)"
   ]
  },
  {
   "cell_type": "code",
   "execution_count": 278,
   "metadata": {},
   "outputs": [],
   "source": [
    "for cols in Categorical_Columns:\n",
    "     CategoricalImputation_WOE(X_train,X_test,cols,'Claim')"
   ]
  },
  {
   "cell_type": "code",
   "execution_count": 279,
   "metadata": {},
   "outputs": [
    {
     "data": {
      "text/html": [
       "<div>\n",
       "<style scoped>\n",
       "    .dataframe tbody tr th:only-of-type {\n",
       "        vertical-align: middle;\n",
       "    }\n",
       "\n",
       "    .dataframe tbody tr th {\n",
       "        vertical-align: top;\n",
       "    }\n",
       "\n",
       "    .dataframe thead th {\n",
       "        text-align: right;\n",
       "    }\n",
       "</style>\n",
       "<table border=\"1\" class=\"dataframe\">\n",
       "  <thead>\n",
       "    <tr style=\"text-align: right;\">\n",
       "      <th></th>\n",
       "      <th>Agency</th>\n",
       "      <th>Agency Type</th>\n",
       "      <th>Distribution Channel</th>\n",
       "      <th>Product Name</th>\n",
       "      <th>Claim</th>\n",
       "      <th>Duration</th>\n",
       "      <th>Destination</th>\n",
       "      <th>Net Sales</th>\n",
       "      <th>Commision (in value)</th>\n",
       "      <th>Age</th>\n",
       "      <th>...</th>\n",
       "      <th>Distribution Channel_rare_imp</th>\n",
       "      <th>Product Name_rare_imp</th>\n",
       "      <th>Destination_rare_imp</th>\n",
       "      <th>Agency Type_freq_imp</th>\n",
       "      <th>Distribution Channel_freq_imp</th>\n",
       "      <th>Agency_ordered</th>\n",
       "      <th>Agency Type_ordered</th>\n",
       "      <th>Distribution Channel_ordered</th>\n",
       "      <th>Product Name_ordered</th>\n",
       "      <th>Destination_ordered</th>\n",
       "    </tr>\n",
       "  </thead>\n",
       "  <tbody>\n",
       "    <tr>\n",
       "      <th>62988</th>\n",
       "      <td>C2B</td>\n",
       "      <td>Airlines</td>\n",
       "      <td>Online</td>\n",
       "      <td>Annual Silver Plan</td>\n",
       "      <td>0.0</td>\n",
       "      <td>NaN</td>\n",
       "      <td>SINGAPORE</td>\n",
       "      <td>138.0</td>\n",
       "      <td>46.2</td>\n",
       "      <td>57.0</td>\n",
       "      <td>...</td>\n",
       "      <td>Online</td>\n",
       "      <td>Others</td>\n",
       "      <td>SINGAPORE</td>\n",
       "      <td>Airlines</td>\n",
       "      <td>Online</td>\n",
       "      <td>-6.907755</td>\n",
       "      <td>-6.907755</td>\n",
       "      <td>-6.907755</td>\n",
       "      <td>-6.907755</td>\n",
       "      <td>-6.907755</td>\n",
       "    </tr>\n",
       "    <tr>\n",
       "      <th>51258</th>\n",
       "      <td>EPX</td>\n",
       "      <td>Travel Agency</td>\n",
       "      <td>Online</td>\n",
       "      <td>Cancellation Plan</td>\n",
       "      <td>NaN</td>\n",
       "      <td>4.0</td>\n",
       "      <td>SINGAPORE</td>\n",
       "      <td>10.0</td>\n",
       "      <td>0.0</td>\n",
       "      <td>33.0</td>\n",
       "      <td>...</td>\n",
       "      <td>Online</td>\n",
       "      <td>Cancellation Plan</td>\n",
       "      <td>SINGAPORE</td>\n",
       "      <td>Travel Agency</td>\n",
       "      <td>Online</td>\n",
       "      <td>-6.907755</td>\n",
       "      <td>-6.907755</td>\n",
       "      <td>-6.907755</td>\n",
       "      <td>-6.907755</td>\n",
       "      <td>-6.907755</td>\n",
       "    </tr>\n",
       "    <tr>\n",
       "      <th>17742</th>\n",
       "      <td>JZI</td>\n",
       "      <td>Airlines</td>\n",
       "      <td>Online</td>\n",
       "      <td>Basic Plan</td>\n",
       "      <td>0.0</td>\n",
       "      <td>19.0</td>\n",
       "      <td>INDIA</td>\n",
       "      <td>22.0</td>\n",
       "      <td>7.7</td>\n",
       "      <td>26.0</td>\n",
       "      <td>...</td>\n",
       "      <td>Online</td>\n",
       "      <td>Basic Plan</td>\n",
       "      <td>Others</td>\n",
       "      <td>Airlines</td>\n",
       "      <td>Online</td>\n",
       "      <td>-6.907755</td>\n",
       "      <td>-6.907755</td>\n",
       "      <td>-6.907755</td>\n",
       "      <td>-6.907755</td>\n",
       "      <td>-6.907755</td>\n",
       "    </tr>\n",
       "    <tr>\n",
       "      <th>49241</th>\n",
       "      <td>EPX</td>\n",
       "      <td>Travel Agency</td>\n",
       "      <td>Online</td>\n",
       "      <td>2 way Comprehensive Plan</td>\n",
       "      <td>0.0</td>\n",
       "      <td>20.0</td>\n",
       "      <td>UNITED STATES</td>\n",
       "      <td>112.0</td>\n",
       "      <td>0.0</td>\n",
       "      <td>59.0</td>\n",
       "      <td>...</td>\n",
       "      <td>Online</td>\n",
       "      <td>2 way Comprehensive Plan</td>\n",
       "      <td>Others</td>\n",
       "      <td>Travel Agency</td>\n",
       "      <td>Online</td>\n",
       "      <td>-6.907755</td>\n",
       "      <td>-6.907755</td>\n",
       "      <td>-6.907755</td>\n",
       "      <td>-6.907755</td>\n",
       "      <td>-6.907755</td>\n",
       "    </tr>\n",
       "    <tr>\n",
       "      <th>57537</th>\n",
       "      <td>C2B</td>\n",
       "      <td>Airlines</td>\n",
       "      <td>Online</td>\n",
       "      <td>Bronze Plan</td>\n",
       "      <td>0.0</td>\n",
       "      <td>8.0</td>\n",
       "      <td>SINGAPORE</td>\n",
       "      <td>16.0</td>\n",
       "      <td>4.0</td>\n",
       "      <td>28.0</td>\n",
       "      <td>...</td>\n",
       "      <td>Online</td>\n",
       "      <td>Bronze Plan</td>\n",
       "      <td>SINGAPORE</td>\n",
       "      <td>Airlines</td>\n",
       "      <td>Online</td>\n",
       "      <td>-6.907755</td>\n",
       "      <td>-6.907755</td>\n",
       "      <td>-6.907755</td>\n",
       "      <td>-6.907755</td>\n",
       "      <td>-6.907755</td>\n",
       "    </tr>\n",
       "  </tbody>\n",
       "</table>\n",
       "<p>5 rows × 36 columns</p>\n",
       "</div>"
      ],
      "text/plain": [
       "      Agency    Agency Type Distribution Channel              Product Name  \\\n",
       "62988    C2B       Airlines               Online        Annual Silver Plan   \n",
       "51258    EPX  Travel Agency               Online         Cancellation Plan   \n",
       "17742    JZI       Airlines               Online                Basic Plan   \n",
       "49241    EPX  Travel Agency               Online  2 way Comprehensive Plan   \n",
       "57537    C2B       Airlines               Online               Bronze Plan   \n",
       "\n",
       "       Claim  Duration    Destination  Net Sales  Commision (in value)   Age  \\\n",
       "62988    0.0       NaN      SINGAPORE      138.0                  46.2  57.0   \n",
       "51258    NaN       4.0      SINGAPORE       10.0                   0.0  33.0   \n",
       "17742    0.0      19.0          INDIA       22.0                   7.7  26.0   \n",
       "49241    0.0      20.0  UNITED STATES      112.0                   0.0  59.0   \n",
       "57537    0.0       8.0      SINGAPORE       16.0                   4.0  28.0   \n",
       "\n",
       "       ...  Distribution Channel_rare_imp     Product Name_rare_imp  \\\n",
       "62988  ...                         Online                    Others   \n",
       "51258  ...                         Online         Cancellation Plan   \n",
       "17742  ...                         Online                Basic Plan   \n",
       "49241  ...                         Online  2 way Comprehensive Plan   \n",
       "57537  ...                         Online               Bronze Plan   \n",
       "\n",
       "       Destination_rare_imp  Agency Type_freq_imp  \\\n",
       "62988             SINGAPORE              Airlines   \n",
       "51258             SINGAPORE         Travel Agency   \n",
       "17742                Others              Airlines   \n",
       "49241                Others         Travel Agency   \n",
       "57537             SINGAPORE              Airlines   \n",
       "\n",
       "       Distribution Channel_freq_imp  Agency_ordered  Agency Type_ordered  \\\n",
       "62988                         Online       -6.907755            -6.907755   \n",
       "51258                         Online       -6.907755            -6.907755   \n",
       "17742                         Online       -6.907755            -6.907755   \n",
       "49241                         Online       -6.907755            -6.907755   \n",
       "57537                         Online       -6.907755            -6.907755   \n",
       "\n",
       "       Distribution Channel_ordered  Product Name_ordered Destination_ordered  \n",
       "62988                     -6.907755             -6.907755           -6.907755  \n",
       "51258                     -6.907755             -6.907755           -6.907755  \n",
       "17742                     -6.907755             -6.907755           -6.907755  \n",
       "49241                     -6.907755             -6.907755           -6.907755  \n",
       "57537                     -6.907755             -6.907755           -6.907755  \n",
       "\n",
       "[5 rows x 36 columns]"
      ]
     },
     "execution_count": 279,
     "metadata": {},
     "output_type": "execute_result"
    }
   ],
   "source": [
    "X_train.head()"
   ]
  },
  {
   "cell_type": "code",
   "execution_count": 33,
   "metadata": {},
   "outputs": [],
   "source": [
    "#Lets use risk factor encoding for destination column\n",
    "#customer_data=CategoricalImputation_OneHot(customer_data,'Agency Type')\n",
    "#CategoricalImputation_RiskFactor(customer_data,'Destination','Claim')\n",
    "#customer_data['Net Sales'].describe()\n",
    "#customer_data[(customer_data['Net Sales']>500)&(customer_data['Net Sales']<810)].count()\n",
    "#customer_data.drop(customer_data[customer_data['Duration']>4000].index,inplace=True)\n",
    "#Duration cannot be less than 0, we can do zero coding for these records.\n",
    "#outliers_ZeroCoding(customer_data,'Duration')\n",
    "#customer_data[customer_data['Duration']>200].count()\n"
   ]
  },
  {
   "cell_type": "markdown",
   "metadata": {},
   "source": [
    "# 3.Mixed value imputation"
   ]
  },
  {
   "cell_type": "code",
   "execution_count": null,
   "metadata": {},
   "outputs": [],
   "source": []
  },
  {
   "cell_type": "markdown",
   "metadata": {},
   "source": [
    "# 4.Date Variables"
   ]
  },
  {
   "cell_type": "code",
   "execution_count": 67,
   "metadata": {},
   "outputs": [],
   "source": [
    "Date_Columns=X_train.select_dtypes(include=['datetime']).columns"
   ]
  },
  {
   "cell_type": "code",
   "execution_count": 66,
   "metadata": {},
   "outputs": [
    {
     "data": {
      "text/plain": [
       "Index([], dtype='object')"
      ]
     },
     "execution_count": 66,
     "metadata": {},
     "output_type": "execute_result"
    }
   ],
   "source": [
    "Date_Columns"
   ]
  },
  {
   "cell_type": "code",
   "execution_count": 68,
   "metadata": {},
   "outputs": [],
   "source": [
    "def date_ExtractInfo(X_train,X_test,variable):\n",
    "    #All the information below can be extracted from date column.Use whatever is necessary for the problem\n",
    "    X_train[variable+'_month'] = X_train[variable].dt.month\n",
    "    X_train[variable+'_quarter'] = X_train[variable].dt.quarter\n",
    "    X_train[variable+'_semester'] = np.where(X_train[variable+'_quarter'].isin([1,2]),1,2)\n",
    "    X_train[variable+'_day'] = X_train[variable].dt.day\n",
    "    X_train[variable+'_dayofweek'] = X_train[variable].dt.dayofweek\n",
    "    X_train[variable+'_dayofweek_name'] = X_train[variable].dt.weekday_name\n",
    "    X_train[variable+'_is_weekend'] = np.where(X_train[variable+'_dayofweek_name'].isin(['Sunday', 'Saturday']), 1,0)\n",
    "    X_train[variable+'_year'] = X_train[variable].dt.year\n",
    "    #Do the same for test set\n",
    "    X_test[variable+'_month'] = X_test[variable].dt.month\n",
    "    X_test[variable+'_quarter'] = X_test[variable].dt.quarter\n",
    "    X_test[variable+'_semester'] = np.where(X_test[variable+'_quarter'].isin([1,2]),1,2)\n",
    "    X_test[variable+'_day'] = X_test[variable].dt.day\n",
    "    X_test[variable+'_dayofweek'] = X_test[variable].dt.dayofweek\n",
    "    X_test[variable+'_dayofweek_name'] = X_test[variable].dt.weekday_name\n",
    "    X_test[variable+'_is_weekend'] = np.where(X_test[variable+'_dayofweek_name'].isin(['Sunday', 'Saturday']), 1,0)\n",
    "    X_test[variable+'_year'] = X_test[variable].dt.year"
   ]
  },
  {
   "cell_type": "code",
   "execution_count": null,
   "metadata": {},
   "outputs": [],
   "source": []
  },
  {
   "cell_type": "code",
   "execution_count": 69,
   "metadata": {},
   "outputs": [],
   "source": [
    "for col in Date_Columns:\n",
    "    date_ExtractInfo(X_train,X_test,col)"
   ]
  },
  {
   "cell_type": "code",
   "execution_count": null,
   "metadata": {},
   "outputs": [],
   "source": []
  }
 ],
 "metadata": {
  "kernelspec": {
   "display_name": "Python 3",
   "language": "python",
   "name": "python3"
  },
  "language_info": {
   "codemirror_mode": {
    "name": "ipython",
    "version": 3
   },
   "file_extension": ".py",
   "mimetype": "text/x-python",
   "name": "python",
   "nbconvert_exporter": "python",
   "pygments_lexer": "ipython3",
   "version": "3.8.5"
  }
 },
 "nbformat": 4,
 "nbformat_minor": 4
}
